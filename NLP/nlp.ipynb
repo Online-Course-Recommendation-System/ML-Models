{
 "cells": [
  {
   "cell_type": "code",
   "execution_count": 1,
   "metadata": {},
   "outputs": [],
   "source": [
    "import pandas as pd\n",
    "import numpy as np\n",
    "import matplotlib.pyplot as plt\n",
    "import seaborn as sns"
   ]
  },
  {
   "cell_type": "code",
   "execution_count": 2,
   "metadata": {},
   "outputs": [],
   "source": [
    "data = pd.read_csv('Coursera.csv')"
   ]
  },
  {
   "cell_type": "code",
   "execution_count": 3,
   "metadata": {},
   "outputs": [
    {
     "name": "stdout",
     "output_type": "stream",
     "text": [
      "<class 'pandas.core.frame.DataFrame'>\n",
      "RangeIndex: 3522 entries, 0 to 3521\n",
      "Data columns (total 7 columns):\n",
      " #   Column              Non-Null Count  Dtype \n",
      "---  ------              --------------  ----- \n",
      " 0   Course Name         3522 non-null   object\n",
      " 1   University          3522 non-null   object\n",
      " 2   Difficulty Level    3522 non-null   object\n",
      " 3   Course Rating       3522 non-null   object\n",
      " 4   Course URL          3522 non-null   object\n",
      " 5   Course Description  3522 non-null   object\n",
      " 6   Skills              3522 non-null   object\n",
      "dtypes: object(7)\n",
      "memory usage: 192.7+ KB\n"
     ]
    }
   ],
   "source": [
    "data.info()"
   ]
  },
  {
   "cell_type": "code",
   "execution_count": 4,
   "metadata": {},
   "outputs": [
    {
     "data": {
      "text/html": [
       "<div>\n",
       "<style scoped>\n",
       "    .dataframe tbody tr th:only-of-type {\n",
       "        vertical-align: middle;\n",
       "    }\n",
       "\n",
       "    .dataframe tbody tr th {\n",
       "        vertical-align: top;\n",
       "    }\n",
       "\n",
       "    .dataframe thead th {\n",
       "        text-align: right;\n",
       "    }\n",
       "</style>\n",
       "<table border=\"1\" class=\"dataframe\">\n",
       "  <thead>\n",
       "    <tr style=\"text-align: right;\">\n",
       "      <th></th>\n",
       "      <th>Course Name</th>\n",
       "      <th>University</th>\n",
       "      <th>Difficulty Level</th>\n",
       "      <th>Course Rating</th>\n",
       "      <th>Course URL</th>\n",
       "      <th>Course Description</th>\n",
       "      <th>Skills</th>\n",
       "    </tr>\n",
       "  </thead>\n",
       "  <tbody>\n",
       "    <tr>\n",
       "      <th>0</th>\n",
       "      <td>Write A Feature Length Screenplay For Film Or ...</td>\n",
       "      <td>Michigan State University</td>\n",
       "      <td>Beginner</td>\n",
       "      <td>4.8</td>\n",
       "      <td>https://www.coursera.org/learn/write-a-feature...</td>\n",
       "      <td>Write a Full Length Feature Film Script  In th...</td>\n",
       "      <td>Drama  Comedy  peering  screenwriting  film  D...</td>\n",
       "    </tr>\n",
       "    <tr>\n",
       "      <th>1</th>\n",
       "      <td>Business Strategy: Business Model Canvas Analy...</td>\n",
       "      <td>Coursera Project Network</td>\n",
       "      <td>Beginner</td>\n",
       "      <td>4.8</td>\n",
       "      <td>https://www.coursera.org/learn/canvas-analysis...</td>\n",
       "      <td>By the end of this guided project, you will be...</td>\n",
       "      <td>Finance  business plan  persona (user experien...</td>\n",
       "    </tr>\n",
       "    <tr>\n",
       "      <th>2</th>\n",
       "      <td>Silicon Thin Film Solar Cells</td>\n",
       "      <td>�cole Polytechnique</td>\n",
       "      <td>Advanced</td>\n",
       "      <td>4.1</td>\n",
       "      <td>https://www.coursera.org/learn/silicon-thin-fi...</td>\n",
       "      <td>This course consists of a general presentation...</td>\n",
       "      <td>chemistry  physics  Solar Energy  film  lambda...</td>\n",
       "    </tr>\n",
       "    <tr>\n",
       "      <th>3</th>\n",
       "      <td>Finance for Managers</td>\n",
       "      <td>IESE Business School</td>\n",
       "      <td>Intermediate</td>\n",
       "      <td>4.8</td>\n",
       "      <td>https://www.coursera.org/learn/operational-fin...</td>\n",
       "      <td>When it comes to numbers, there is always more...</td>\n",
       "      <td>accounts receivable  dupont analysis  analysis...</td>\n",
       "    </tr>\n",
       "    <tr>\n",
       "      <th>4</th>\n",
       "      <td>Retrieve Data using Single-Table SQL Queries</td>\n",
       "      <td>Coursera Project Network</td>\n",
       "      <td>Beginner</td>\n",
       "      <td>4.6</td>\n",
       "      <td>https://www.coursera.org/learn/single-table-sq...</td>\n",
       "      <td>In this course you�ll learn how to effectively...</td>\n",
       "      <td>Data Analysis  select (sql)  database manageme...</td>\n",
       "    </tr>\n",
       "  </tbody>\n",
       "</table>\n",
       "</div>"
      ],
      "text/plain": [
       "                                         Course Name  \\\n",
       "0  Write A Feature Length Screenplay For Film Or ...   \n",
       "1  Business Strategy: Business Model Canvas Analy...   \n",
       "2                      Silicon Thin Film Solar Cells   \n",
       "3                               Finance for Managers   \n",
       "4       Retrieve Data using Single-Table SQL Queries   \n",
       "\n",
       "                  University Difficulty Level Course Rating  \\\n",
       "0  Michigan State University         Beginner           4.8   \n",
       "1   Coursera Project Network         Beginner           4.8   \n",
       "2        �cole Polytechnique         Advanced           4.1   \n",
       "3       IESE Business School     Intermediate           4.8   \n",
       "4   Coursera Project Network         Beginner           4.6   \n",
       "\n",
       "                                          Course URL  \\\n",
       "0  https://www.coursera.org/learn/write-a-feature...   \n",
       "1  https://www.coursera.org/learn/canvas-analysis...   \n",
       "2  https://www.coursera.org/learn/silicon-thin-fi...   \n",
       "3  https://www.coursera.org/learn/operational-fin...   \n",
       "4  https://www.coursera.org/learn/single-table-sq...   \n",
       "\n",
       "                                  Course Description  \\\n",
       "0  Write a Full Length Feature Film Script  In th...   \n",
       "1  By the end of this guided project, you will be...   \n",
       "2  This course consists of a general presentation...   \n",
       "3  When it comes to numbers, there is always more...   \n",
       "4  In this course you�ll learn how to effectively...   \n",
       "\n",
       "                                              Skills  \n",
       "0  Drama  Comedy  peering  screenwriting  film  D...  \n",
       "1  Finance  business plan  persona (user experien...  \n",
       "2  chemistry  physics  Solar Energy  film  lambda...  \n",
       "3  accounts receivable  dupont analysis  analysis...  \n",
       "4  Data Analysis  select (sql)  database manageme...  "
      ]
     },
     "execution_count": 4,
     "metadata": {},
     "output_type": "execute_result"
    }
   ],
   "source": [
    "data.head()"
   ]
  },
  {
   "cell_type": "code",
   "execution_count": 5,
   "metadata": {},
   "outputs": [
    {
     "data": {
      "text/plain": [
       "(3522, 7)"
      ]
     },
     "execution_count": 5,
     "metadata": {},
     "output_type": "execute_result"
    }
   ],
   "source": [
    "data.shape"
   ]
  },
  {
   "cell_type": "code",
   "execution_count": 6,
   "metadata": {},
   "outputs": [
    {
     "data": {
      "text/plain": [
       "Course Name           0\n",
       "University            0\n",
       "Difficulty Level      0\n",
       "Course Rating         0\n",
       "Course URL            0\n",
       "Course Description    0\n",
       "Skills                0\n",
       "dtype: int64"
      ]
     },
     "execution_count": 6,
     "metadata": {},
     "output_type": "execute_result"
    }
   ],
   "source": [
    "data.isnull().sum()"
   ]
  },
  {
   "cell_type": "code",
   "execution_count": 7,
   "metadata": {},
   "outputs": [
    {
     "data": {
      "text/plain": [
       "98"
      ]
     },
     "execution_count": 7,
     "metadata": {},
     "output_type": "execute_result"
    }
   ],
   "source": [
    "data.duplicated().sum()"
   ]
  },
  {
   "cell_type": "code",
   "execution_count": 8,
   "metadata": {},
   "outputs": [],
   "source": [
    "data.drop_duplicates(inplace=True)"
   ]
  },
  {
   "cell_type": "code",
   "execution_count": 9,
   "metadata": {},
   "outputs": [
    {
     "data": {
      "text/plain": [
       "Course Description\n",
       "This specialization offers the latest developments in blockchain technology through a highly engaging learning experience with animated video components and intuitive course flow to maximize your knowledge retention.                                                                                                                                                                                                                                                                                                                                                                                                                                                                                                                                                                                                                                                                                                                                                                                                                                                                                                                                                                                                                                                                                                                                                                                                                                                                                                                                                                                                                                                                                                                                                                                                                                                                                      3\n",
       "This course introduces students to the science of business analytics while casting a keen eye toward the artful use of numbers found in the digital space. The goal is to provide businesses and managers with the foundation needed to apply data analytics to real-world challenges they confront daily in their professional lives. Students will learn to identify the ideal analytic tool for their specific needs; understand valid and reliable ways to collect, analyze, and visualize data; and utilize data in decision making for their agencies, organizations or clients.                                                                                                                                                                                                                                                                                                                                                                                                                                                                                                                                                                                                                                                                                                                                                                                                                                                                                                                                                                                                                                                                                                                                                                                                                                                                                                                        3\n",
       "This course helps to build the foundational material to use mathematics as a tool to model, understand, and interpret the world around us.  This is done through studying functions, their properties, and applications to data analysis.  Concepts of precalculus provide the set of tools for the beginning student to begin their scientific career, preparing them for future science and calculus courses. This course is designed for all students, not just those interested in further mathematics courses.  Students interested in the natural sciences, computer sciences, psychology, sociology, or similar will genuinely benefit from this introductory course, applying the skills learned to their discipline to analyze and interpret their subject material.  Students will be presented with not only new ideas, but also new applications of an old subject. Real-life data, exercise sets, and regular assessments help to motivate and reinforce the content in this course, leading to learning and mastery.                                                                                                                                                                                                                                                                                                                                                                                                                                                                                                                                                                                                                                                                                                                                                                                                                                                                            3\n",
       "Digital Signal Processing is the branch of engineering that, in the space of just a few decades, has enabled unprecedented levels of interpersonal communication and of on-demand entertainment. By reworking the principles of electronics, telecommunication and computer science into a unifying paradigm, DSP is a the heart of the digital revolution that brought us CDs, DVDs, MP3 players, mobile phones and countless other devices.   The goal, for students of this course, will be to learn the fundamentals of Digital Signal Processing from the ground up. Starting from the basic definition of a discrete-time signal, we will work our way through Fourier analysis, filter design, sampling, interpolation and quantization to build a DSP toolset complete enough to analyze a practical communication system in detail. Hands-on examples and demonstration will be routinely used to close the gap between theory and practice.  To make the best of this class, it is recommended that you are proficient in basic calculus and linear algebra; several programming examples will be provided in the form of Python notebooks but you can use your favorite programming language to test the algorithms described in the course.                                                                                                                                                                                                                                                                                                                                                                                                                                                                                                                                                                                                                                                       3\n",
       "This sequence of four courses will propose a multi-disciplinary approach to the study of Chinese cultural history conceived of as a succession of modes of rationality (philosophical, bureaucratic, and economic). The focus will be on the moments of paradigm shift from one mode of rationality to another. For each of these moments, cultural facts and artifacts�thought, literature, ritual�will be examined in relationship to changing social, political, and economic systems.  The first two courses will cover the periods of the Warring States (481-256 BCE) and the Period of Division (220-589 CE), with a brief excursion into the Han (206 BCE-220 CE). The Warring States laid the social and cultural foundations for the emergence of the imperial mode of rationality; the Period of Division saw the Buddhist �conquest� of China and the emergence of a rationality defined by the opposition of the Three Teachings to shamanism, that is, of a clear contrast between elite and popular culture.  The third and fourth courses will focus on the emergence of modern China in the Song-Yuan (960-1368) and of today�s China 1850 to the present. We will see how the modern attack on religion, redefined as \"superstition\", led not only to religious reform movements but also to a society in which science and the nation became the primary value systems promoted by the state.  The courses are listed below:  A Critical Cultural History of China - Early China I: Intellectual Change in the Warring States and Han (481 BCE-220 CE) A Critical Cultural History of China - Early China II: Religious Transformation in the Period of Division (220-589 CE) A Critical Cultural History of China - Modern China I: Religion and Thought in the Song, Jin, and Yuan (960-1368)  A Critical Cultural History of China - Modern China II: Structuring Values (1850-2015)    3\n",
       "                                                                                                                                                                                                                                                                                                                                                                                                                                                                                                                                                                                                                                                                                                                                                                                                                                                                                                                                                                                                                                                                                                                                                                                                                                                                                                                                                                                                                                                                                                                                                                                                                                                                                                                                                                                                                                                                                                             ..\n",
       "This course, Job Success: Get Hired or Promoted in Three Steps, will prepare you to stand out in a crowded applicant pool so that you can get hired or promoted. In three steps you will leave this course with   1. An upgraded social media presence (one that you can be proud of) 2. A visual, infographic resume that will get you noticed 3. A professional pitch that highlights your strengths and skills  When creating this course, we listened to potential employers, took the advice of recruiters, conducted informal research on best practices and we drew from our own experiences as professionals who have sought out and hired quality candidates.                                                                                                                                                                                                                                                                                                                                                                                                                                                                                                                                                                                                                                                                                                                                                                                                                                                                                                                                                                                                                                                                                                                                                                                                                                        1\n",
       "Manufacturers are increasingly utilizing machine tools that are self-aware � they perceive their own states and the state of the surrounding environment � and are able to make decisions related to machine activity processes. This is called intelligent machining, and through this course students will receive a primer on its background, tools and related terminology.   Learn how the integration of smart sensors and controls are helping to improve productivity. You�ll be exposed to various sensors and sensing techniques, process control strategies, and open architecture systems that can be leveraged to enable intelligent machining. This course will prepare you to contribute to the implementation of intelligent machining projects.   Main concepts of this course will be delivered through lectures, readings, discussions and various videos.   This is the fifth course in the Digital Manufacturing & Design Technology specialization that explores the many facets of manufacturing�s �Fourth Revolution,�  aka Industry 4.0, and features a culminating project involving creation of a roadmap to achieve a self-established DMD-related professional goal.  To learn more about the Digital Manufacturing and Design Technology specialization, please watch the overview video by copying and pasting the following link into your web browser: https://youtu.be/wETK1O9c-CA                                                                                                                                                                                                                                                                                                                                                                                                                                                                                          1\n",
       "The course offers a well-researched and broad-ranging primer to the United Nations system.  Consisting of an introduction to the complex UN family and its history, and a series of �snapshots� of key UN functions, which are used to explore important UN themes and help learners develop important analysis, communication, and policy-based skills.  The course is aimed broadly at people interested in learning more about the United Nations system, assuming a level of interest but no necessary previous knowledge, whilst also offering offering sufficient up to date research and new critical perspectives that it will also be of interest to people with more expertise or academic familiarity with the topic as well.   The main aim of the course is to provide this wide-ranging introduction in a self-contained, but in-depth form, alongside the important practical skills necessary to understand and discuss UN affairs, and potentially lay the groundwork for greater engagement in future � either in civil society or in further study.                                                                                                                                                                                                                                                                                                                                                                                                                                                                                                                                                                                                                                                                                                                                                                                                                                        1\n",
       "This course  introduces the broader discipline of computer science to people having basic familiarity with Java programming.  It covers the second half of our book Computer Science: An Interdisciplinary Approach (the first half is covered in our Coursera course Computer Science: Programming with a Purpose, to be released in the fall of 2018). Our intent is to demystify computation and to build awareness about the substantial intellectual underpinnings and rich history of the field of computer science.  First, we introduce classic algorithms along with scientific techniques for evaluating performance, in the context of modern applications. Next, we introduce classic theoretical models that allow us to address fundamental questions about computation, such as computability, universality, and intractability. We conclude with machine architecture (including machine-language programming and its relationship to coding in Java) and logic design (including a full CPU design built from the ground up).  The course emphasizes the relationships between applications programming, the theory of computation, real computers, and the field's history and evolution, including the nature of the contributions of Boole, Shannon, Turing, von Neumann, and others.  All the features of this course are available for free. No certificate will be offered upon completion.                                                                                                                                                                                                                                                                                                                                                                                                                                                                                            1\n",
       "In this course, \"Architecting with Google Kubernetes Engine: Production,\" you'll learn about Kubernetes and Google Kubernetes Engine (GKE) security; logging and monitoring; and using GCP managed storage and database services from within GKE.  This course is part of a specialization focused on building efficient computing infrastructures using Kubernetes and GKE. The specialization introduces participants to deploying and managing containerized applications on GKE and the other services provided by Google Cloud Platform. Through a combination of presentations, demos, and hands-on labs, participants explore and deploy solution elements, including infrastructure components such as pods, containers, deployments, and services; as well as networks and application services. The specialization also covers deploying practical solutions including security and access management, resource management, and resource monitoring.  >>> By enrolling in this course you agree to the Qwiklabs Terms of Service as set out in the FAQ and located at: https://qwiklabs.com/terms_of_service <<<                                                                                                                                                                                                                                                                                                                                                                                                                                                                                                                                                                                                                                                                                                                                                                                    1\n",
       "Name: count, Length: 3397, dtype: int64"
      ]
     },
     "execution_count": 9,
     "metadata": {},
     "output_type": "execute_result"
    }
   ],
   "source": [
    "data['Course Description'].value_counts()"
   ]
  },
  {
   "cell_type": "code",
   "execution_count": 10,
   "metadata": {},
   "outputs": [
    {
     "data": {
      "text/plain": [
       "Course Name\n",
       "Corporate Strategy                                        2\n",
       "Introduction to Psychology                                2\n",
       "Cryptography                                              2\n",
       "Portfolio and Risk Management                             2\n",
       "Python Data Structures                                    2\n",
       "                                                         ..\n",
       "Symmetric Cryptography                                    1\n",
       "Using Descriptive Statistics to Analyze Data in R         1\n",
       "BIM Fundamentals for Engineers                            1\n",
       "Organizational Behavior: How to Manage People             1\n",
       "Architecting with Google Kubernetes Engine: Production    1\n",
       "Name: count, Length: 3416, dtype: int64"
      ]
     },
     "execution_count": 10,
     "metadata": {},
     "output_type": "execute_result"
    }
   ],
   "source": [
    "data['Course Name'].value_counts()"
   ]
  },
  {
   "cell_type": "code",
   "execution_count": 11,
   "metadata": {},
   "outputs": [
    {
     "data": {
      "text/plain": [
       "Difficulty Level\n",
       "Beginner          1406\n",
       "Advanced           991\n",
       "Intermediate       823\n",
       "Conversant         154\n",
       "Not Calibrated      50\n",
       "Name: count, dtype: int64"
      ]
     },
     "execution_count": 11,
     "metadata": {},
     "output_type": "execute_result"
    }
   ],
   "source": [
    "data['Difficulty Level'].value_counts()"
   ]
  },
  {
   "cell_type": "code",
   "execution_count": 12,
   "metadata": {},
   "outputs": [
    {
     "data": {
      "text/plain": [
       "Course Rating\n",
       "4.7               707\n",
       "4.6               602\n",
       "4.8               585\n",
       "4.5               380\n",
       "4.4               235\n",
       "4.9               174\n",
       "4.3               159\n",
       "4.2               120\n",
       "5                  89\n",
       "4.1                85\n",
       "Not Calibrated     82\n",
       "4                  50\n",
       "3.8                24\n",
       "3.9                20\n",
       "3.6                18\n",
       "3.7                18\n",
       "3.5                17\n",
       "3.4                13\n",
       "3                  12\n",
       "3.2                 9\n",
       "3.3                 6\n",
       "2.9                 6\n",
       "2.6                 2\n",
       "2.8                 2\n",
       "2.4                 2\n",
       "1                   2\n",
       "2                   1\n",
       "3.1                 1\n",
       "2.5                 1\n",
       "1.9                 1\n",
       "2.3                 1\n",
       "Name: count, dtype: int64"
      ]
     },
     "execution_count": 12,
     "metadata": {},
     "output_type": "execute_result"
    }
   ],
   "source": [
    "data['Course Rating'].value_counts()"
   ]
  },
  {
   "cell_type": "code",
   "execution_count": 13,
   "metadata": {},
   "outputs": [
    {
     "data": {
      "text/plain": [
       "Course Rating\n",
       "4.7    707\n",
       "4.6    602\n",
       "4.8    585\n",
       "4.5    380\n",
       "4.4    235\n",
       "4.9    174\n",
       "4.3    159\n",
       "4.2    120\n",
       "5       89\n",
       "4.1     85\n",
       "4       50\n",
       "3.8     24\n",
       "3.9     20\n",
       "3.7     18\n",
       "3.6     18\n",
       "3.5     17\n",
       "3.4     13\n",
       "3       12\n",
       "3.2      9\n",
       "3.3      6\n",
       "2.9      6\n",
       "2.6      2\n",
       "2.8      2\n",
       "2.4      2\n",
       "1        2\n",
       "2        1\n",
       "3.1      1\n",
       "2.5      1\n",
       "1.9      1\n",
       "2.3      1\n",
       "Name: count, dtype: int64"
      ]
     },
     "execution_count": 13,
     "metadata": {},
     "output_type": "execute_result"
    }
   ],
   "source": [
    "data = data[data['Course Rating'] != 'Not Calibrated']\n",
    "data['Course Rating'].value_counts()"
   ]
  },
  {
   "cell_type": "code",
   "execution_count": 14,
   "metadata": {},
   "outputs": [
    {
     "data": {
      "text/plain": [
       "Difficulty Level\n",
       "Beginner        1387\n",
       "Advanced         955\n",
       "Intermediate     809\n",
       "Conversant       143\n",
       "Name: count, dtype: int64"
      ]
     },
     "execution_count": 14,
     "metadata": {},
     "output_type": "execute_result"
    }
   ],
   "source": [
    "data = data[data['Difficulty Level'] != 'Not Calibrated']\n",
    "data['Difficulty Level'].value_counts()"
   ]
  },
  {
   "cell_type": "code",
   "execution_count": 15,
   "metadata": {},
   "outputs": [
    {
     "data": {
      "text/plain": [
       "Course Rating\n",
       "4.7    696\n",
       "4.6    588\n",
       "4.8    579\n",
       "4.5    377\n",
       "4.4    231\n",
       "4.9    172\n",
       "4.3    153\n",
       "0.0    153\n",
       "4.2    119\n",
       "4.1     85\n",
       "3.8     24\n",
       "3.9     20\n",
       "3.6     18\n",
       "3.7     18\n",
       "3.5     17\n",
       "3.4     13\n",
       "3.2      9\n",
       "3.3      6\n",
       "2.9      6\n",
       "2.6      2\n",
       "2.8      2\n",
       "2.4      2\n",
       "3.1      1\n",
       "2.5      1\n",
       "1.9      1\n",
       "2.3      1\n",
       "Name: count, dtype: int64"
      ]
     },
     "execution_count": 15,
     "metadata": {},
     "output_type": "execute_result"
    }
   ],
   "source": [
    "import re\n",
    "data = data[data['Course Rating']!='Not Calibrated']\n",
    "data['Course Rating'] = data['Course Rating'].apply(lambda x: float(re.findall(r'\\d+\\.\\d+', str(x))[0]) if re.findall(r'\\d+\\.\\d+', str(x)) else 0.0)\n",
    "data['Course Rating'].value_counts()"
   ]
  },
  {
   "cell_type": "code",
   "execution_count": 16,
   "metadata": {},
   "outputs": [],
   "source": [
    "data['Category'] = data['Course Description'].apply(lambda x: 'Film and Cinema Studies' if any(keyword in x.lower() for keyword in ['film', 'cinema', 'movie', 'director', 'screenplay']) else\n",
    "                                                    'Stock Market Investing' if any(keyword in x.lower() for keyword in ['stock market', 'investing', 'financial market', 'trading', 'stocks']) else\n",
    "                                                    'Financial Analysis' if any(keyword in x.lower() for keyword in ['financial analysis', 'financial modeling', 'financial planning']) else\n",
    "                                                    'Real Estate Investment' if any(keyword in x.lower() for keyword in ['real estate', 'investment property', 'real estate finance']) else\n",
    "                                                    'Cryptocurrency' if any(keyword in x.lower() for keyword in ['cryptocurrency', 'blockchain', 'bitcoin', 'ethereum']) else\n",
    "                                                    'Social Media Marketing' if any(keyword in x.lower() for keyword in ['social media', 'marketing', 'digital marketing', 'social media strategy']) else\n",
    "                                                    'Public Speaking' if any(keyword in x.lower() for keyword in ['public speaking', 'communication skills', 'presentation']) else\n",
    "                                                    'Creative Writing' if any(keyword in x.lower() for keyword in ['creative writing', 'fiction writing', 'poetry', 'storytelling']) else\n",
    "                                                    'Animation' if any(keyword in x.lower() for keyword in ['animation', 'cartooning', '3d animation', 'motion graphics']) else\n",
    "                                                    'Business Analytics' if any(keyword in x.lower() for keyword in ['business analytics', 'data analysis', 'business intelligence', 'data visualization']) else\n",
    "                                                    'Data Analytics' if any(keyword in x.lower() for keyword in ['data', 'sql', 'data science', 'data engineering', 'big data']) else\n",
    "                                                    'ML/DL' if any(keyword in x.lower() for keyword in ['machine learning', 'deep learning', 'neural network', 'tensorflow', 'pytorch']) else\n",
    "                                                    'Photography' if any(keyword in x.lower() for keyword in ['photography', 'photo editing', 'portrait photography', 'landscape photography']) else\n",
    "                                                    'Astronomy' if any(keyword in x.lower() for keyword in ['astronomy', 'cosmology', 'space science', 'telescope']) else\n",
    "                                                    'Philosophy' if any(keyword in x.lower() for keyword in ['philosophy', 'philosophical thought', 'ethical philosophy']) else\n",
    "                                                    'Game Development' if any(keyword in x.lower() for keyword in ['game development', 'game design', 'video game programming']) else\n",
    "                                                    '3D Modeling' if any(keyword in x.lower() for keyword in ['3d modeling', '3d design', '3d animation']) else\n",
    "                                                    'Culinary Arts' if any(keyword in x.lower() for keyword in ['culinary arts', 'cooking techniques', 'baking']) else\n",
    "                                                    'Political Science' if any(keyword in x.lower() for keyword in ['political science', 'government', 'international relations']) else\n",
    "                                                    'Linguistics' if any(keyword in x.lower() for keyword in ['linguistics', 'language studies', 'language structure']) else\n",
    "                                                    'Fitness Training' if any(keyword in x.lower() for keyword in ['fitness training', 'exercise', 'personal training']) else\n",
    "                                                    'Digital Marketing' if any(keyword in x.lower() for keyword in ['digital marketing', 'online marketing', 'internet advertising']) else\n",
    "                                                    'Photography' if any(keyword in x.lower() for keyword in ['photography', 'photo editing', 'portrait photography', 'landscape photography']) else\n",
    "                                                    'Economics' if any(keyword in x.lower() for keyword in ['economics', 'microeconomics', 'macroeconomics']) else\n",
    "                                                    'History' if any(keyword in x.lower() for keyword in ['history', 'historical studies', 'world history']) else\n",
    "                                                    'Music' if any(keyword in x.lower() for keyword in ['music', 'music theory', 'musical composition']) else\n",
    "                                                    'Language Learning' if any(keyword in x.lower() for keyword in ['language learning', 'language acquisition', 'linguistic studies']) else\n",
    "                                                    'Health and Wellness' if any(keyword in x.lower() for keyword in ['health', 'wellness', 'fitness']) else\n",
    "                                                    'Engineering' if any(keyword in x.lower() for keyword in ['engineering', 'civil engineering', 'electrical engineering']) else\n",
    "                                                    'Design' if any(keyword in x.lower() for keyword in ['design', 'graphic design', 'ux/ui design']) else\n",
    "                                                    'Literature and Writing' if any(keyword in x.lower() for keyword in ['literature', 'writing', 'creative writing']) else\n",
    "                                                    'Science' if any(keyword in x.lower() for keyword in ['science', 'physics', 'chemistry']) else\n",
    "                                                    'Technology' if any(keyword in x.lower() for keyword in ['technology', 'computer science', 'programming']) else\n",
    "                                                    'Mathematics' if any(keyword in x.lower() for keyword in ['mathematics', 'calculus', 'algebra']) else\n",
    "                                                    'Language and Communication' if any(keyword in x.lower() for keyword in ['language', 'communication', 'linguistics']) else\n",
    "                                                    'Other' if any(keyword in x.lower() for keyword in ['other', 'miscellaneous', 'varied', 'diverse', 'assorted', 'various', 'general']) else 'Other')\n"
   ]
  },
  {
   "cell_type": "code",
   "execution_count": 17,
   "metadata": {},
   "outputs": [
    {
     "data": {
      "image/png": "[encoded data removed]",
      "text/plain": [
       "<Figure size 1000x500 with 1 Axes>"
      ]
     },
     "metadata": {},
     "output_type": "display_data"
    }
   ],
   "source": [
    "# Plotting the distribution of difficulty level\n",
    "plt.figure(figsize=(10,5))\n",
    "plt.title('Distribution of Difficulty Level')\n",
    "plt.xlabel('Difficulty Level')\n",
    "plt.ylabel('Count')\n",
    "data['Difficulty Level'].value_counts().plot(kind='bar')\n",
    "plt.show()"
   ]
  },
  {
   "cell_type": "code",
   "execution_count": 18,
   "metadata": {},
   "outputs": [
    {
     "data": {
      "image/png": "[encoded data removed]",
      "text/plain": [
       "<Figure size 1000x500 with 1 Axes>"
      ]
     },
     "metadata": {},
     "output_type": "display_data"
    }
   ],
   "source": [
    "plt.figure(figsize=(10,5))\n",
    "plt.hist(data['Course Rating'],bins=20)\n",
    "plt.title('Distribution of Course Ratings')\n",
    "plt.xlabel('Rating')\n",
    "plt.ylabel('Count')\n",
    "plt.show()"
   ]
  },
  {
   "cell_type": "code",
   "execution_count": 19,
   "metadata": {},
   "outputs": [],
   "source": [
    "from sklearn.feature_extraction.text import TfidfVectorizer\n",
    "tfidf = TfidfVectorizer(stop_words='english')"
   ]
  },
  {
   "cell_type": "code",
   "execution_count": 20,
   "metadata": {},
   "outputs": [],
   "source": [
    "features = tfidf.fit_transform(data['Course Description']+data['Course Name']+data['Skills'])"
   ]
  },
  {
   "cell_type": "code",
   "execution_count": 21,
   "metadata": {},
   "outputs": [],
   "source": [
    "from sklearn.metrics.pairwise import cosine_similarity\n",
    "\n",
    "def recommend_courses(user_input):\n",
    "    # Preprocess user input\n",
    "    preprocessed_input = tfidf.transform([user_input])\n",
    "\n",
    "    # Calculate cosine similarity\n",
    "    similarity_scores = cosine_similarity(preprocessed_input, features)\n",
    "\n",
    "    # Get indices of top recommended courses\n",
    "    top_indices = similarity_scores.argsort()[0][::-1][:5]\n",
    "\n",
    "    # Get recommended courses\n",
    "    recommended_courses = data.iloc[top_indices][['Course Name','Course Description','Difficulty Level','Course Rating','Skills']]\n",
    "\n",
    "    return pd.DataFrame(recommended_courses)\n"
   ]
  },
  {
   "cell_type": "code",
   "execution_count": 24,
   "metadata": {},
   "outputs": [
    {
     "data": {
      "text/html": [
       "<div>\n",
       "<style scoped>\n",
       "    .dataframe tbody tr th:only-of-type {\n",
       "        vertical-align: middle;\n",
       "    }\n",
       "\n",
       "    .dataframe tbody tr th {\n",
       "        vertical-align: top;\n",
       "    }\n",
       "\n",
       "    .dataframe thead th {\n",
       "        text-align: right;\n",
       "    }\n",
       "</style>\n",
       "<table border=\"1\" class=\"dataframe\">\n",
       "  <thead>\n",
       "    <tr style=\"text-align: right;\">\n",
       "      <th></th>\n",
       "      <th>Course Name</th>\n",
       "      <th>Course Description</th>\n",
       "      <th>Difficulty Level</th>\n",
       "      <th>Course Rating</th>\n",
       "      <th>Skills</th>\n",
       "    </tr>\n",
       "  </thead>\n",
       "  <tbody>\n",
       "    <tr>\n",
       "      <th>2538</th>\n",
       "      <td>Introduction to Applied Machine Learning</td>\n",
       "      <td>This course is for professionals who have hear...</td>\n",
       "      <td>Intermediate</td>\n",
       "      <td>4.7</td>\n",
       "      <td>Algorithms  Machine Learning Algorithms  Appli...</td>\n",
       "    </tr>\n",
       "    <tr>\n",
       "      <th>2707</th>\n",
       "      <td>Machine Learning for Data Analysis</td>\n",
       "      <td>Are you interested in predicting future outcom...</td>\n",
       "      <td>Intermediate</td>\n",
       "      <td>4.2</td>\n",
       "      <td>Algorithms  Data Analysis  numbers (spreadshee...</td>\n",
       "    </tr>\n",
       "    <tr>\n",
       "      <th>3471</th>\n",
       "      <td>Optimizing Machine Learning Performance</td>\n",
       "      <td>This course synthesizes everything your have l...</td>\n",
       "      <td>Beginner</td>\n",
       "      <td>4.5</td>\n",
       "      <td>project  Deep Learning  Strategy  mathematical...</td>\n",
       "    </tr>\n",
       "    <tr>\n",
       "      <th>3321</th>\n",
       "      <td>Machine Learning Foundations: A Case Study App...</td>\n",
       "      <td>Do you have data and wonder what it can tell y...</td>\n",
       "      <td>Conversant</td>\n",
       "      <td>4.5</td>\n",
       "      <td>Human Learning  Regression  Machine Learning  ...</td>\n",
       "    </tr>\n",
       "    <tr>\n",
       "      <th>3230</th>\n",
       "      <td>Machine Learning for All</td>\n",
       "      <td>Machine Learning, often called Artificial Inte...</td>\n",
       "      <td>Conversant</td>\n",
       "      <td>4.7</td>\n",
       "      <td>robotics  Machine Learning  Artificial Neural ...</td>\n",
       "    </tr>\n",
       "  </tbody>\n",
       "</table>\n",
       "</div>"
      ],
      "text/plain": [
       "                                            Course Name  \\\n",
       "2538           Introduction to Applied Machine Learning   \n",
       "2707                 Machine Learning for Data Analysis   \n",
       "3471            Optimizing Machine Learning Performance   \n",
       "3321  Machine Learning Foundations: A Case Study App...   \n",
       "3230                           Machine Learning for All   \n",
       "\n",
       "                                     Course Description Difficulty Level  \\\n",
       "2538  This course is for professionals who have hear...     Intermediate   \n",
       "2707  Are you interested in predicting future outcom...     Intermediate   \n",
       "3471  This course synthesizes everything your have l...         Beginner   \n",
       "3321  Do you have data and wonder what it can tell y...       Conversant   \n",
       "3230  Machine Learning, often called Artificial Inte...       Conversant   \n",
       "\n",
       "      Course Rating                                             Skills  \n",
       "2538            4.7  Algorithms  Machine Learning Algorithms  Appli...  \n",
       "2707            4.2  Algorithms  Data Analysis  numbers (spreadshee...  \n",
       "3471            4.5  project  Deep Learning  Strategy  mathematical...  \n",
       "3321            4.5  Human Learning  Regression  Machine Learning  ...  \n",
       "3230            4.7  robotics  Machine Learning  Artificial Neural ...  "
      ]
     },
     "execution_count": 24,
     "metadata": {},
     "output_type": "execute_result"
    }
   ],
   "source": [
    "user = input('Enter your course description, name or skills: ')\n",
    "rec = recommend_courses(user)\n",
    "rec.head()"
   ]
  },
  {
   "cell_type": "code",
   "execution_count": null,
   "metadata": {},
   "outputs": [],
   "source": []
  }
 ],
 "metadata": {
  "kernelspec": {
   "display_name": "Python 3",
   "language": "python",
   "name": "python3"
  },
  "language_info": {
   "codemirror_mode": {
    "name": "ipython",
    "version": 3
   },
   "file_extension": ".py",
   "mimetype": "text/x-python",
   "name": "python",
   "nbconvert_exporter": "python",
   "pygments_lexer": "ipython3",
   "version": "3.11.2"
  }
 },
 "nbformat": 4,
 "nbformat_minor": 2
}
