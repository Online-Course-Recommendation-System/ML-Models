{
 "cells": [
  {
   "cell_type": "code",
   "execution_count": 1,
   "metadata": {},
   "outputs": [],
   "source": [
    "import pandas as pd\n",
    "from sklearn.model_selection import train_test_split\n",
    "from sklearn.feature_extraction.text import TfidfVectorizer\n",
    "from sklearn.ensemble import RandomForestClassifier, VotingClassifier\n",
    "from sklearn.metrics import accuracy_score\n",
    "from sklearn.decomposition import TruncatedSVD\n",
    "from sklearn.linear_model import LogisticRegression\n"
   ]
  },
  {
   "cell_type": "code",
   "execution_count": 2,
   "metadata": {},
   "outputs": [],
   "source": [
    "# Load data\n",
    "df = pd.read_csv(\"Coursera.csv\")\n",
    "\n",
    "# Preprocess data\n",
    "df['Course Rating'] = pd.to_numeric(df['Course Rating'], errors='coerce')\n",
    "df.dropna(subset=['Course Rating'], inplace=True)\n",
    "df['Content'] = df['Course Description'] + \" \" + df['Skills']"
   ]
  },
  {
   "cell_type": "code",
   "execution_count": 3,
   "metadata": {},
   "outputs": [
    {
     "name": "stdout",
     "output_type": "stream",
     "text": [
      "<class 'pandas.core.frame.DataFrame'>\n",
      "Index: 3440 entries, 0 to 3521\n",
      "Data columns (total 8 columns):\n",
      " #   Column              Non-Null Count  Dtype  \n",
      "---  ------              --------------  -----  \n",
      " 0   Course Name         3440 non-null   object \n",
      " 1   University          3440 non-null   object \n",
      " 2   Difficulty Level    3440 non-null   object \n",
      " 3   Course Rating       3440 non-null   float64\n",
      " 4   Course URL          3440 non-null   object \n",
      " 5   Course Description  3440 non-null   object \n",
      " 6   Skills              3440 non-null   object \n",
      " 7   Content             3440 non-null   object \n",
      "dtypes: float64(1), object(7)\n",
      "memory usage: 241.9+ KB\n"
     ]
    }
   ],
   "source": [
    "df.info()"
   ]
  },
  {
   "cell_type": "code",
   "execution_count": 4,
   "metadata": {},
   "outputs": [
    {
     "data": {
      "text/plain": [
       "Course Name           0\n",
       "University            0\n",
       "Difficulty Level      0\n",
       "Course Rating         0\n",
       "Course URL            0\n",
       "Course Description    0\n",
       "Skills                0\n",
       "Content               0\n",
       "dtype: int64"
      ]
     },
     "execution_count": 4,
     "metadata": {},
     "output_type": "execute_result"
    }
   ],
   "source": [
    "df.isnull().sum()"
   ]
  },
  {
   "cell_type": "code",
   "execution_count": 5,
   "metadata": {},
   "outputs": [
    {
     "data": {
      "text/plain": [
       "98"
      ]
     },
     "execution_count": 5,
     "metadata": {},
     "output_type": "execute_result"
    }
   ],
   "source": [
    "df.duplicated().sum()"
   ]
  },
  {
   "cell_type": "code",
   "execution_count": 6,
   "metadata": {},
   "outputs": [],
   "source": [
    "df.drop_duplicates(inplace=True)"
   ]
  },
  {
   "cell_type": "code",
   "execution_count": 7,
   "metadata": {},
   "outputs": [
    {
     "data": {
      "text/plain": [
       "0"
      ]
     },
     "execution_count": 7,
     "metadata": {},
     "output_type": "execute_result"
    }
   ],
   "source": [
    "df.duplicated().sum()"
   ]
  },
  {
   "cell_type": "code",
   "execution_count": 8,
   "metadata": {},
   "outputs": [
    {
     "data": {
      "text/plain": [
       "Difficulty Level\n",
       "Beginner          1387\n",
       "Advanced           955\n",
       "Intermediate       809\n",
       "Conversant         143\n",
       "Not Calibrated      48\n",
       "Name: count, dtype: int64"
      ]
     },
     "execution_count": 8,
     "metadata": {},
     "output_type": "execute_result"
    }
   ],
   "source": [
    "df['Difficulty Level'].value_counts()"
   ]
  },
  {
   "cell_type": "code",
   "execution_count": 9,
   "metadata": {},
   "outputs": [],
   "source": [
    "df = df[df['Difficulty Level'] != 'Not Calibrated']"
   ]
  },
  {
   "cell_type": "code",
   "execution_count": 10,
   "metadata": {},
   "outputs": [
    {
     "data": {
      "text/plain": [
       "Difficulty Level\n",
       "Beginner        1387\n",
       "Advanced         955\n",
       "Intermediate     809\n",
       "Conversant       143\n",
       "Name: count, dtype: int64"
      ]
     },
     "execution_count": 10,
     "metadata": {},
     "output_type": "execute_result"
    }
   ],
   "source": [
    "df['Difficulty Level'].value_counts()"
   ]
  },
  {
   "cell_type": "code",
   "execution_count": 11,
   "metadata": {},
   "outputs": [
    {
     "data": {
      "text/plain": [
       "Course Rating\n",
       "4.7    696\n",
       "4.6    588\n",
       "4.8    579\n",
       "4.5    377\n",
       "4.4    231\n",
       "4.9    172\n",
       "4.3    153\n",
       "4.2    119\n",
       "5.0     89\n",
       "4.1     85\n",
       "4.0     49\n",
       "3.8     24\n",
       "3.9     20\n",
       "3.7     18\n",
       "3.6     18\n",
       "3.5     17\n",
       "3.4     13\n",
       "3.0     12\n",
       "3.2      9\n",
       "3.3      6\n",
       "2.9      6\n",
       "2.6      2\n",
       "2.8      2\n",
       "2.4      2\n",
       "1.0      2\n",
       "2.0      1\n",
       "3.1      1\n",
       "2.5      1\n",
       "1.9      1\n",
       "2.3      1\n",
       "Name: count, dtype: int64"
      ]
     },
     "execution_count": 11,
     "metadata": {},
     "output_type": "execute_result"
    }
   ],
   "source": [
    "df['Course Rating'].value_counts()"
   ]
  },
  {
   "cell_type": "code",
   "execution_count": 12,
   "metadata": {},
   "outputs": [],
   "source": [
    "df['Category'] = df['Course Description'].apply(lambda x: 'Film and Cinema Studies' if any(keyword in x.lower() for keyword in ['film', 'cinema', 'movie', 'director', 'screenplay']) else\n",
    "                                                    'Stock Market Investing' if any(keyword in x.lower() for keyword in ['stock market', 'investing', 'financial market', 'trading', 'stocks']) else\n",
    "                                                    'Financial Analysis' if any(keyword in x.lower() for keyword in ['financial analysis', 'financial modeling', 'financial planning']) else\n",
    "                                                    'Real Estate Investment' if any(keyword in x.lower() for keyword in ['real estate', 'investment property', 'real estate finance']) else\n",
    "                                                    'Cryptocurrency' if any(keyword in x.lower() for keyword in ['cryptocurrency', 'blockchain', 'bitcoin', 'ethereum']) else\n",
    "                                                    'Social Media Marketing' if any(keyword in x.lower() for keyword in ['social media', 'marketing', 'digital marketing', 'social media strategy']) else\n",
    "                                                    'Public Speaking' if any(keyword in x.lower() for keyword in ['public speaking', 'communication skills', 'presentation']) else\n",
    "                                                    'Creative Writing' if any(keyword in x.lower() for keyword in ['creative writing', 'fiction writing', 'poetry', 'storytelling']) else\n",
    "                                                    'Animation' if any(keyword in x.lower() for keyword in ['animation', 'cartooning', '3d animation', 'motion graphics']) else\n",
    "                                                    'Business Analytics' if any(keyword in x.lower() for keyword in ['business analytics', 'data analysis', 'business intelligence', 'data visualization']) else\n",
    "                                                    'Data Analytics' if any(keyword in x.lower() for keyword in ['data', 'sql', 'data science', 'data engineering', 'big data']) else\n",
    "                                                    'ML/DL' if any(keyword in x.lower() for keyword in ['machine learning', 'deep learning', 'neural network', 'tensorflow', 'pytorch']) else\n",
    "                                                    'Photography' if any(keyword in x.lower() for keyword in ['photography', 'photo editing', 'portrait photography', 'landscape photography']) else\n",
    "                                                    'Astronomy' if any(keyword in x.lower() for keyword in ['astronomy', 'cosmology', 'space science', 'telescope']) else\n",
    "                                                    'Philosophy' if any(keyword in x.lower() for keyword in ['philosophy', 'philosophical thought', 'ethical philosophy']) else\n",
    "                                                    'Game Development' if any(keyword in x.lower() for keyword in ['game development', 'game design', 'video game programming']) else\n",
    "                                                    '3D Modeling' if any(keyword in x.lower() for keyword in ['3d modeling', '3d design', '3d animation']) else\n",
    "                                                    'Culinary Arts' if any(keyword in x.lower() for keyword in ['culinary arts', 'cooking techniques', 'baking']) else\n",
    "                                                    'Political Science' if any(keyword in x.lower() for keyword in ['political science', 'government', 'international relations']) else\n",
    "                                                    'Linguistics' if any(keyword in x.lower() for keyword in ['linguistics', 'language studies', 'language structure']) else\n",
    "                                                    'Fitness Training' if any(keyword in x.lower() for keyword in ['fitness training', 'exercise', 'personal training']) else\n",
    "                                                    'Digital Marketing' if any(keyword in x.lower() for keyword in ['digital marketing', 'online marketing', 'internet advertising']) else\n",
    "                                                    'Photography' if any(keyword in x.lower() for keyword in ['photography', 'photo editing', 'portrait photography', 'landscape photography']) else\n",
    "                                                    'Economics' if any(keyword in x.lower() for keyword in ['economics', 'microeconomics', 'macroeconomics']) else\n",
    "                                                    'History' if any(keyword in x.lower() for keyword in ['history', 'historical studies', 'world history']) else\n",
    "                                                    'Music' if any(keyword in x.lower() for keyword in ['music', 'music theory', 'musical composition']) else\n",
    "                                                    'Language Learning' if any(keyword in x.lower() for keyword in ['language learning', 'language acquisition', 'linguistic studies']) else\n",
    "                                                    'Health and Wellness' if any(keyword in x.lower() for keyword in ['health', 'wellness', 'fitness']) else\n",
    "                                                    'Engineering' if any(keyword in x.lower() for keyword in ['engineering', 'civil engineering', 'electrical engineering']) else\n",
    "                                                    'Design' if any(keyword in x.lower() for keyword in ['design', 'graphic design', 'ux/ui design']) else\n",
    "                                                    'Literature and Writing' if any(keyword in x.lower() for keyword in ['literature', 'writing', 'creative writing']) else\n",
    "                                                    'Science' if any(keyword in x.lower() for keyword in ['science', 'physics', 'chemistry']) else\n",
    "                                                    'Technology' if any(keyword in x.lower() for keyword in ['technology', 'computer science', 'programming']) else\n",
    "                                                    'Mathematics' if any(keyword in x.lower() for keyword in ['mathematics', 'calculus', 'algebra']) else\n",
    "                                                    'Language and Communication' if any(keyword in x.lower() for keyword in ['language', 'communication', 'linguistics']) else\n",
    "                                                    'Other' if any(keyword in x.lower() for keyword in ['other', 'miscellaneous', 'varied', 'diverse', 'assorted', 'various', 'general']) else 'Other')\n"
   ]
  },
  {
   "cell_type": "code",
   "execution_count": 13,
   "metadata": {},
   "outputs": [
    {
     "data": {
      "image/png": "[encoded data removed]",
      "text/plain": [
       "<Figure size 1000x500 with 1 Axes>"
      ]
     },
     "metadata": {},
     "output_type": "display_data"
    }
   ],
   "source": [
    "import matplotlib.pyplot as plt\n",
    "plt.figure(figsize=(10,5))\n",
    "plt.title('Distribution of Difficulty Level')\n",
    "plt.xlabel('Difficulty Level')\n",
    "plt.ylabel('Count')\n",
    "df['Difficulty Level'].value_counts().plot(kind='bar')\n",
    "plt.show()"
   ]
  },
  {
   "cell_type": "code",
   "execution_count": 14,
   "metadata": {},
   "outputs": [
    {
     "data": {
      "image/png": "[encoded data removed]",
      "text/plain": [
       "<Figure size 1000x500 with 1 Axes>"
      ]
     },
     "metadata": {},
     "output_type": "display_data"
    }
   ],
   "source": [
    "plt.figure(figsize=(10,5))\n",
    "plt.hist(df['Course Rating'],bins=20)\n",
    "plt.title('Distribution of Course Ratings')\n",
    "plt.xlabel('Rating')\n",
    "plt.ylabel('Count')\n",
    "plt.show()"
   ]
  },
  {
   "cell_type": "code",
   "execution_count": 15,
   "metadata": {},
   "outputs": [],
   "source": [
    "# Create TF-IDF matrix\n",
    "tfidf_vectorizer = TfidfVectorizer(stop_words='english')\n",
    "tfidf_matrix = tfidf_vectorizer.fit_transform(df['Content'])\n",
    "\n",
    "# Dimensionality Reduction\n",
    "svd = TruncatedSVD(n_components=50)\n",
    "course_features = svd.fit_transform(tfidf_matrix)\n"
   ]
  },
  {
   "cell_type": "code",
   "execution_count": 16,
   "metadata": {},
   "outputs": [],
   "source": [
    "# Simulate user preferences based on ratings\n",
    "df['User Preference'] = df['Course Rating'] >= 4.5  # Assuming users prefer courses with ratings >= 4.5\n"
   ]
  },
  {
   "cell_type": "code",
   "execution_count": 17,
   "metadata": {},
   "outputs": [],
   "source": [
    "X_train, X_test, y_train, y_test = train_test_split(course_features, df['User Preference'], test_size=0.2, random_state=42)\n"
   ]
  },
  {
   "cell_type": "code",
   "execution_count": 18,
   "metadata": {},
   "outputs": [
    {
     "data": {
      "text/html": [
       "<style>#sk-container-id-1 {color: black;}#sk-container-id-1 pre{padding: 0;}#sk-container-id-1 div.sk-toggleable {background-color: white;}#sk-container-id-1 label.sk-toggleable__label {cursor: pointer;display: block;width: 100%;margin-bottom: 0;padding: 0.3em;box-sizing: border-box;text-align: center;}#sk-container-id-1 label.sk-toggleable__label-arrow:before {content: \"▸\";float: left;margin-right: 0.25em;color: #696969;}#sk-container-id-1 label.sk-toggleable__label-arrow:hover:before {color: black;}#sk-container-id-1 div.sk-estimator:hover label.sk-toggleable__label-arrow:before {color: black;}#sk-container-id-1 div.sk-toggleable__content {max-height: 0;max-width: 0;overflow: hidden;text-align: left;background-color: #f0f8ff;}#sk-container-id-1 div.sk-toggleable__content pre {margin: 0.2em;color: black;border-radius: 0.25em;background-color: #f0f8ff;}#sk-container-id-1 input.sk-toggleable__control:checked~div.sk-toggleable__content {max-height: 200px;max-width: 100%;overflow: auto;}#sk-container-id-1 input.sk-toggleable__control:checked~label.sk-toggleable__label-arrow:before {content: \"▾\";}#sk-container-id-1 div.sk-estimator input.sk-toggleable__control:checked~label.sk-toggleable__label {background-color: #d4ebff;}#sk-container-id-1 div.sk-label input.sk-toggleable__control:checked~label.sk-toggleable__label {background-color: #d4ebff;}#sk-container-id-1 input.sk-hidden--visually {border: 0;clip: rect(1px 1px 1px 1px);clip: rect(1px, 1px, 1px, 1px);height: 1px;margin: -1px;overflow: hidden;padding: 0;position: absolute;width: 1px;}#sk-container-id-1 div.sk-estimator {font-family: monospace;background-color: #f0f8ff;border: 1px dotted black;border-radius: 0.25em;box-sizing: border-box;margin-bottom: 0.5em;}#sk-container-id-1 div.sk-estimator:hover {background-color: #d4ebff;}#sk-container-id-1 div.sk-parallel-item::after {content: \"\";width: 100%;border-bottom: 1px solid gray;flex-grow: 1;}#sk-container-id-1 div.sk-label:hover label.sk-toggleable__label {background-color: #d4ebff;}#sk-container-id-1 div.sk-serial::before {content: \"\";position: absolute;border-left: 1px solid gray;box-sizing: border-box;top: 0;bottom: 0;left: 50%;z-index: 0;}#sk-container-id-1 div.sk-serial {display: flex;flex-direction: column;align-items: center;background-color: white;padding-right: 0.2em;padding-left: 0.2em;position: relative;}#sk-container-id-1 div.sk-item {position: relative;z-index: 1;}#sk-container-id-1 div.sk-parallel {display: flex;align-items: stretch;justify-content: center;background-color: white;position: relative;}#sk-container-id-1 div.sk-item::before, #sk-container-id-1 div.sk-parallel-item::before {content: \"\";position: absolute;border-left: 1px solid gray;box-sizing: border-box;top: 0;bottom: 0;left: 50%;z-index: -1;}#sk-container-id-1 div.sk-parallel-item {display: flex;flex-direction: column;z-index: 1;position: relative;background-color: white;}#sk-container-id-1 div.sk-parallel-item:first-child::after {align-self: flex-end;width: 50%;}#sk-container-id-1 div.sk-parallel-item:last-child::after {align-self: flex-start;width: 50%;}#sk-container-id-1 div.sk-parallel-item:only-child::after {width: 0;}#sk-container-id-1 div.sk-dashed-wrapped {border: 1px dashed gray;margin: 0 0.4em 0.5em 0.4em;box-sizing: border-box;padding-bottom: 0.4em;background-color: white;}#sk-container-id-1 div.sk-label label {font-family: monospace;font-weight: bold;display: inline-block;line-height: 1.2em;}#sk-container-id-1 div.sk-label-container {text-align: center;}#sk-container-id-1 div.sk-container {/* jupyter's `normalize.less` sets `[hidden] { display: none; }` but bootstrap.min.css set `[hidden] { display: none !important; }` so we also need the `!important` here to be able to override the default hidden behavior on the sphinx rendered scikit-learn.org. See: https://github.com/scikit-learn/scikit-learn/issues/21755 */display: inline-block !important;position: relative;}#sk-container-id-1 div.sk-text-repr-fallback {display: none;}</style><div id=\"sk-container-id-1\" class=\"sk-top-container\"><div class=\"sk-text-repr-fallback\"><pre>LogisticRegression()</pre><b>In a Jupyter environment, please rerun this cell to show the HTML representation or trust the notebook. <br />On GitHub, the HTML representation is unable to render, please try loading this page with nbviewer.org.</b></div><div class=\"sk-container\" hidden><div class=\"sk-item\"><div class=\"sk-estimator sk-toggleable\"><input class=\"sk-toggleable__control sk-hidden--visually\" id=\"sk-estimator-id-1\" type=\"checkbox\" checked><label for=\"sk-estimator-id-1\" class=\"sk-toggleable__label sk-toggleable__label-arrow\">LogisticRegression</label><div class=\"sk-toggleable__content\"><pre>LogisticRegression()</pre></div></div></div></div></div>"
      ],
      "text/plain": [
       "LogisticRegression()"
      ]
     },
     "execution_count": 18,
     "metadata": {},
     "output_type": "execute_result"
    }
   ],
   "source": [
    "model1 = RandomForestClassifier(n_estimators=100, random_state=42)\n",
    "model2 = LogisticRegression()\n",
    "\n",
    "model1.fit(X_train, y_train)\n",
    "model2.fit(X_train, y_train)\n"
   ]
  },
  {
   "cell_type": "code",
   "execution_count": 19,
   "metadata": {},
   "outputs": [
    {
     "data": {
      "text/html": [
       "<style>#sk-container-id-2 {color: black;}#sk-container-id-2 pre{padding: 0;}#sk-container-id-2 div.sk-toggleable {background-color: white;}#sk-container-id-2 label.sk-toggleable__label {cursor: pointer;display: block;width: 100%;margin-bottom: 0;padding: 0.3em;box-sizing: border-box;text-align: center;}#sk-container-id-2 label.sk-toggleable__label-arrow:before {content: \"▸\";float: left;margin-right: 0.25em;color: #696969;}#sk-container-id-2 label.sk-toggleable__label-arrow:hover:before {color: black;}#sk-container-id-2 div.sk-estimator:hover label.sk-toggleable__label-arrow:before {color: black;}#sk-container-id-2 div.sk-toggleable__content {max-height: 0;max-width: 0;overflow: hidden;text-align: left;background-color: #f0f8ff;}#sk-container-id-2 div.sk-toggleable__content pre {margin: 0.2em;color: black;border-radius: 0.25em;background-color: #f0f8ff;}#sk-container-id-2 input.sk-toggleable__control:checked~div.sk-toggleable__content {max-height: 200px;max-width: 100%;overflow: auto;}#sk-container-id-2 input.sk-toggleable__control:checked~label.sk-toggleable__label-arrow:before {content: \"▾\";}#sk-container-id-2 div.sk-estimator input.sk-toggleable__control:checked~label.sk-toggleable__label {background-color: #d4ebff;}#sk-container-id-2 div.sk-label input.sk-toggleable__control:checked~label.sk-toggleable__label {background-color: #d4ebff;}#sk-container-id-2 input.sk-hidden--visually {border: 0;clip: rect(1px 1px 1px 1px);clip: rect(1px, 1px, 1px, 1px);height: 1px;margin: -1px;overflow: hidden;padding: 0;position: absolute;width: 1px;}#sk-container-id-2 div.sk-estimator {font-family: monospace;background-color: #f0f8ff;border: 1px dotted black;border-radius: 0.25em;box-sizing: border-box;margin-bottom: 0.5em;}#sk-container-id-2 div.sk-estimator:hover {background-color: #d4ebff;}#sk-container-id-2 div.sk-parallel-item::after {content: \"\";width: 100%;border-bottom: 1px solid gray;flex-grow: 1;}#sk-container-id-2 div.sk-label:hover label.sk-toggleable__label {background-color: #d4ebff;}#sk-container-id-2 div.sk-serial::before {content: \"\";position: absolute;border-left: 1px solid gray;box-sizing: border-box;top: 0;bottom: 0;left: 50%;z-index: 0;}#sk-container-id-2 div.sk-serial {display: flex;flex-direction: column;align-items: center;background-color: white;padding-right: 0.2em;padding-left: 0.2em;position: relative;}#sk-container-id-2 div.sk-item {position: relative;z-index: 1;}#sk-container-id-2 div.sk-parallel {display: flex;align-items: stretch;justify-content: center;background-color: white;position: relative;}#sk-container-id-2 div.sk-item::before, #sk-container-id-2 div.sk-parallel-item::before {content: \"\";position: absolute;border-left: 1px solid gray;box-sizing: border-box;top: 0;bottom: 0;left: 50%;z-index: -1;}#sk-container-id-2 div.sk-parallel-item {display: flex;flex-direction: column;z-index: 1;position: relative;background-color: white;}#sk-container-id-2 div.sk-parallel-item:first-child::after {align-self: flex-end;width: 50%;}#sk-container-id-2 div.sk-parallel-item:last-child::after {align-self: flex-start;width: 50%;}#sk-container-id-2 div.sk-parallel-item:only-child::after {width: 0;}#sk-container-id-2 div.sk-dashed-wrapped {border: 1px dashed gray;margin: 0 0.4em 0.5em 0.4em;box-sizing: border-box;padding-bottom: 0.4em;background-color: white;}#sk-container-id-2 div.sk-label label {font-family: monospace;font-weight: bold;display: inline-block;line-height: 1.2em;}#sk-container-id-2 div.sk-label-container {text-align: center;}#sk-container-id-2 div.sk-container {/* jupyter's `normalize.less` sets `[hidden] { display: none; }` but bootstrap.min.css set `[hidden] { display: none !important; }` so we also need the `!important` here to be able to override the default hidden behavior on the sphinx rendered scikit-learn.org. See: https://github.com/scikit-learn/scikit-learn/issues/21755 */display: inline-block !important;position: relative;}#sk-container-id-2 div.sk-text-repr-fallback {display: none;}</style><div id=\"sk-container-id-2\" class=\"sk-top-container\"><div class=\"sk-text-repr-fallback\"><pre>VotingClassifier(estimators=[(&#x27;rf&#x27;, RandomForestClassifier(random_state=42)),\n",
       "                             (&#x27;lr&#x27;, LogisticRegression())],\n",
       "                 voting=&#x27;soft&#x27;)</pre><b>In a Jupyter environment, please rerun this cell to show the HTML representation or trust the notebook. <br />On GitHub, the HTML representation is unable to render, please try loading this page with nbviewer.org.</b></div><div class=\"sk-container\" hidden><div class=\"sk-item sk-dashed-wrapped\"><div class=\"sk-label-container\"><div class=\"sk-label sk-toggleable\"><input class=\"sk-toggleable__control sk-hidden--visually\" id=\"sk-estimator-id-2\" type=\"checkbox\" ><label for=\"sk-estimator-id-2\" class=\"sk-toggleable__label sk-toggleable__label-arrow\">VotingClassifier</label><div class=\"sk-toggleable__content\"><pre>VotingClassifier(estimators=[(&#x27;rf&#x27;, RandomForestClassifier(random_state=42)),\n",
       "                             (&#x27;lr&#x27;, LogisticRegression())],\n",
       "                 voting=&#x27;soft&#x27;)</pre></div></div></div><div class=\"sk-parallel\"><div class=\"sk-parallel-item\"><div class=\"sk-item\"><div class=\"sk-label-container\"><div class=\"sk-label sk-toggleable\"><label>rf</label></div></div><div class=\"sk-serial\"><div class=\"sk-item\"><div class=\"sk-estimator sk-toggleable\"><input class=\"sk-toggleable__control sk-hidden--visually\" id=\"sk-estimator-id-3\" type=\"checkbox\" ><label for=\"sk-estimator-id-3\" class=\"sk-toggleable__label sk-toggleable__label-arrow\">RandomForestClassifier</label><div class=\"sk-toggleable__content\"><pre>RandomForestClassifier(random_state=42)</pre></div></div></div></div></div></div><div class=\"sk-parallel-item\"><div class=\"sk-item\"><div class=\"sk-label-container\"><div class=\"sk-label sk-toggleable\"><label>lr</label></div></div><div class=\"sk-serial\"><div class=\"sk-item\"><div class=\"sk-estimator sk-toggleable\"><input class=\"sk-toggleable__control sk-hidden--visually\" id=\"sk-estimator-id-4\" type=\"checkbox\" ><label for=\"sk-estimator-id-4\" class=\"sk-toggleable__label sk-toggleable__label-arrow\">LogisticRegression</label><div class=\"sk-toggleable__content\"><pre>LogisticRegression()</pre></div></div></div></div></div></div></div></div></div></div>"
      ],
      "text/plain": [
       "VotingClassifier(estimators=[('rf', RandomForestClassifier(random_state=42)),\n",
       "                             ('lr', LogisticRegression())],\n",
       "                 voting='soft')"
      ]
     },
     "execution_count": 19,
     "metadata": {},
     "output_type": "execute_result"
    }
   ],
   "source": [
    "ensemble = VotingClassifier(estimators=[\n",
    "    ('rf', model1), \n",
    "    ('lr', model2)],\n",
    "    voting='soft')\n",
    "\n",
    "ensemble.fit(X_train, y_train)\n"
   ]
  },
  {
   "cell_type": "code",
   "execution_count": 20,
   "metadata": {},
   "outputs": [
    {
     "name": "stdout",
     "output_type": "stream",
     "text": [
      "Ensemble Accuracy: 0.7541729893778453\n"
     ]
    }
   ],
   "source": [
    "predictions = ensemble.predict(X_test)\n",
    "print(\"Ensemble Accuracy:\", accuracy_score(y_test, predictions))"
   ]
  },
  {
   "cell_type": "code",
   "execution_count": 21,
   "metadata": {},
   "outputs": [
    {
     "name": "stdout",
     "output_type": "stream",
     "text": [
      "Ensemble Accuracy: 0.7718023255813954\n"
     ]
    }
   ],
   "source": [
    "import pandas as pd\n",
    "from sklearn.model_selection import train_test_split\n",
    "from sklearn.feature_extraction.text import TfidfVectorizer\n",
    "from sklearn.ensemble import RandomForestClassifier, VotingClassifier\n",
    "from sklearn.metrics import accuracy_score\n",
    "from sklearn.decomposition import TruncatedSVD\n",
    "from sklearn.linear_model import LogisticRegression\n",
    "\n",
    "# Load data\n",
    "df = pd.read_csv(\"Coursera.csv\")\n",
    "\n",
    "# Preprocess data\n",
    "df['Course Rating'] = pd.to_numeric(df['Course Rating'], errors='coerce')\n",
    "df.dropna(subset=['Course Rating'], inplace=True)\n",
    "df['Content'] = df['Course Description'] + \" \" + df['Skills']\n",
    "\n",
    "# Simulate user preferences based on ratings\n",
    "df['User Preference'] = df['Course Rating'] >= 4.5  # Assuming users prefer courses with ratings >= 4.5\n",
    "\n",
    "# Create TF-IDF matrix\n",
    "tfidf_vectorizer = TfidfVectorizer(stop_words='english')\n",
    "tfidf_matrix = tfidf_vectorizer.fit_transform(df['Content'])\n",
    "\n",
    "# Dimensionality Reduction\n",
    "svd = TruncatedSVD(n_components=50)\n",
    "course_features = svd.fit_transform(tfidf_matrix)\n",
    "\n",
    "# Stratified Sampling in Train-Test Split\n",
    "# Using 'Difficulty Level' as the stratification criterion\n",
    "X_train, X_test, y_train, y_test = train_test_split(course_features, df['User Preference'], \n",
    "                                                    test_size=0.2, \n",
    "                                                    random_state=42, \n",
    "                                                    stratify=df['Difficulty Level'])\n",
    "\n",
    "# Define and Train Individual Models\n",
    "model1 = RandomForestClassifier(n_estimators=100, random_state=42)\n",
    "model2 = LogisticRegression()\n",
    "\n",
    "model1.fit(X_train, y_train)\n",
    "model2.fit(X_train, y_train)\n",
    "\n",
    "# Ensemble Model\n",
    "ensemble = VotingClassifier(estimators=[\n",
    "    ('rf', model1), \n",
    "    ('lr', model2)],\n",
    "    voting='soft')\n",
    "\n",
    "ensemble.fit(X_train, y_train)\n",
    "\n",
    "# Evaluate the Ensemble Model\n",
    "predictions = ensemble.predict(X_test)\n",
    "print(\"Ensemble Accuracy:\", accuracy_score(y_test, predictions))\n"
   ]
  },
  {
   "cell_type": "code",
   "execution_count": 22,
   "metadata": {},
   "outputs": [],
   "source": [
    "from sklearn.metrics.pairwise import cosine_similarity\n",
    "\n",
    "def recommend_courses(input_description='data science', num_recommendations=5):\n",
    "    # Preprocess the input description\n",
    "    input_tfidf = tfidf_vectorizer.transform([input_description])\n",
    "    input_reduced = svd.transform(input_tfidf)  # Apply dimensionality reduction\n",
    "\n",
    "    # Compute cosine similarity between input and all course descriptions\n",
    "    similarity_scores = cosine_similarity(input_reduced, course_features)\n",
    "\n",
    "    # Get indices of courses sorted by similarity scores\n",
    "    sorted_indices = similarity_scores.argsort()[0][::-1]\n",
    "\n",
    "    # Create a new DataFrame with the relevant columns\n",
    "    recommended_courses = pd.DataFrame({'Course Name': df['Course Name'].iloc[sorted_indices[:num_recommendations]], \n",
    "                                        'University': df['University'].iloc[sorted_indices[:num_recommendations]], \n",
    "                                        'Course URL': df['Course URL'].iloc[sorted_indices[:num_recommendations]],\n",
    "                                        'Course Rating': df['Course Rating'].iloc[sorted_indices[:num_recommendations]],})\n",
    "\n",
    "    return recommended_courses\n"
   ]
  },
  {
   "cell_type": "code",
   "execution_count": 29,
   "metadata": {},
   "outputs": [
    {
     "data": {
      "text/html": [
       "<div>\n",
       "<style scoped>\n",
       "    .dataframe tbody tr th:only-of-type {\n",
       "        vertical-align: middle;\n",
       "    }\n",
       "\n",
       "    .dataframe tbody tr th {\n",
       "        vertical-align: top;\n",
       "    }\n",
       "\n",
       "    .dataframe thead th {\n",
       "        text-align: right;\n",
       "    }\n",
       "</style>\n",
       "<table border=\"1\" class=\"dataframe\">\n",
       "  <thead>\n",
       "    <tr style=\"text-align: right;\">\n",
       "      <th></th>\n",
       "      <th>Course Name</th>\n",
       "      <th>University</th>\n",
       "      <th>Course URL</th>\n",
       "      <th>Course Rating</th>\n",
       "    </tr>\n",
       "  </thead>\n",
       "  <tbody>\n",
       "    <tr>\n",
       "      <th>3158</th>\n",
       "      <td>Music for Wellness</td>\n",
       "      <td>Berklee College of Music</td>\n",
       "      <td>https://www.coursera.org/learn/music-for-wellness</td>\n",
       "      <td>4.6</td>\n",
       "    </tr>\n",
       "    <tr>\n",
       "      <th>3514</th>\n",
       "      <td>The Importance and Power of Music in our Society</td>\n",
       "      <td>Universiteit Leiden</td>\n",
       "      <td>https://www.coursera.org/learn/importance-powe...</td>\n",
       "      <td>4.6</td>\n",
       "    </tr>\n",
       "    <tr>\n",
       "      <th>1488</th>\n",
       "      <td>Getting Started With Music Theory</td>\n",
       "      <td>Michigan State University</td>\n",
       "      <td>https://www.coursera.org/learn/music-theory</td>\n",
       "      <td>4.1</td>\n",
       "    </tr>\n",
       "    <tr>\n",
       "      <th>2849</th>\n",
       "      <td>Music's Big Bang: The Genesis of Rock 'n' Roll</td>\n",
       "      <td>University of Florida</td>\n",
       "      <td>https://www.coursera.org/learn/rock-and-roll-m...</td>\n",
       "      <td>4.7</td>\n",
       "    </tr>\n",
       "    <tr>\n",
       "      <th>2551</th>\n",
       "      <td>Fundamentals of Rehearsing Music Ensembles</td>\n",
       "      <td>The University of North Carolina at Chapel Hill</td>\n",
       "      <td>https://www.coursera.org/learn/music-ensembles</td>\n",
       "      <td>4.8</td>\n",
       "    </tr>\n",
       "  </tbody>\n",
       "</table>\n",
       "</div>"
      ],
      "text/plain": [
       "                                           Course Name  \\\n",
       "3158                                Music for Wellness   \n",
       "3514  The Importance and Power of Music in our Society   \n",
       "1488                 Getting Started With Music Theory   \n",
       "2849    Music's Big Bang: The Genesis of Rock 'n' Roll   \n",
       "2551        Fundamentals of Rehearsing Music Ensembles   \n",
       "\n",
       "                                           University  \\\n",
       "3158                         Berklee College of Music   \n",
       "3514                              Universiteit Leiden   \n",
       "1488                        Michigan State University   \n",
       "2849                            University of Florida   \n",
       "2551  The University of North Carolina at Chapel Hill   \n",
       "\n",
       "                                             Course URL  Course Rating  \n",
       "3158  https://www.coursera.org/learn/music-for-wellness            4.6  \n",
       "3514  https://www.coursera.org/learn/importance-powe...            4.6  \n",
       "1488        https://www.coursera.org/learn/music-theory            4.1  \n",
       "2849  https://www.coursera.org/learn/rock-and-roll-m...            4.7  \n",
       "2551     https://www.coursera.org/learn/music-ensembles            4.8  "
      ]
     },
     "execution_count": 29,
     "metadata": {},
     "output_type": "execute_result"
    }
   ],
   "source": [
    "user_input = input(\"Enter a course description: \")\n",
    "recommended_courses=recommend_courses(user_input,num_recommendations=10)\n",
    "recommended_courses.head()"
   ]
  },
  {
   "cell_type": "code",
   "execution_count": null,
   "metadata": {},
   "outputs": [],
   "source": []
  }
 ],
 "metadata": {
  "kernelspec": {
   "display_name": "base",
   "language": "python",
   "name": "python3"
  },
  "language_info": {
   "codemirror_mode": {
    "name": "ipython",
    "version": 3
   },
   "file_extension": ".py",
   "mimetype": "text/x-python",
   "name": "python",
   "nbconvert_exporter": "python",
   "pygments_lexer": "ipython3",
   "version": "3.11.2"
  }
 },
 "nbformat": 4,
 "nbformat_minor": 2
}
